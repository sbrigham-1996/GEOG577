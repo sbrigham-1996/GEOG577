{
 "cells": [
  {
   "cell_type": "code",
   "execution_count": 1,
   "id": "65316a89-543f-4aa2-852b-4769b7fe31af",
   "metadata": {},
   "outputs": [
    {
     "name": "stdout",
     "output_type": "stream",
     "text": [
      "Requirement already satisfied: geemap in /Users/spencerbrigham/Programming/Gaza_RS/venv/lib/python3.13/site-packages (0.35.1)\n",
      "Requirement already satisfied: earthengine_api in /Users/spencerbrigham/Programming/Gaza_RS/venv/lib/python3.13/site-packages (1.5.3)\n",
      "Requirement already satisfied: bqplot in /Users/spencerbrigham/Programming/Gaza_RS/venv/lib/python3.13/site-packages (from geemap) (0.12.44)\n",
      "Requirement already satisfied: colour in /Users/spencerbrigham/Programming/Gaza_RS/venv/lib/python3.13/site-packages (from geemap) (0.1.5)\n",
      "Requirement already satisfied: eerepr>=0.0.4 in /Users/spencerbrigham/Programming/Gaza_RS/venv/lib/python3.13/site-packages (from geemap) (0.1.1)\n",
      "Requirement already satisfied: folium>=0.17.0 in /Users/spencerbrigham/Programming/Gaza_RS/venv/lib/python3.13/site-packages (from geemap) (0.19.4)\n",
      "Requirement already satisfied: geocoder in /Users/spencerbrigham/Programming/Gaza_RS/venv/lib/python3.13/site-packages (from geemap) (1.38.1)\n",
      "Requirement already satisfied: ipyevents in /Users/spencerbrigham/Programming/Gaza_RS/venv/lib/python3.13/site-packages (from geemap) (2.0.2)\n",
      "Requirement already satisfied: ipyfilechooser>=0.6.0 in /Users/spencerbrigham/Programming/Gaza_RS/venv/lib/python3.13/site-packages (from geemap) (0.6.0)\n",
      "Requirement already satisfied: ipyleaflet>=0.19.2 in /Users/spencerbrigham/Programming/Gaza_RS/venv/lib/python3.13/site-packages (from geemap) (0.19.2)\n",
      "Requirement already satisfied: ipytree in /Users/spencerbrigham/Programming/Gaza_RS/venv/lib/python3.13/site-packages (from geemap) (0.2.2)\n",
      "Requirement already satisfied: matplotlib in /Users/spencerbrigham/Programming/Gaza_RS/venv/lib/python3.13/site-packages (from geemap) (3.10.0)\n",
      "Requirement already satisfied: numpy in /Users/spencerbrigham/Programming/Gaza_RS/venv/lib/python3.13/site-packages (from geemap) (2.2.3)\n",
      "Requirement already satisfied: pandas in /Users/spencerbrigham/Programming/Gaza_RS/venv/lib/python3.13/site-packages (from geemap) (2.2.3)\n",
      "Requirement already satisfied: plotly in /Users/spencerbrigham/Programming/Gaza_RS/venv/lib/python3.13/site-packages (from geemap) (6.0.0)\n",
      "Requirement already satisfied: pyperclip in /Users/spencerbrigham/Programming/Gaza_RS/venv/lib/python3.13/site-packages (from geemap) (1.9.0)\n",
      "Requirement already satisfied: pyshp>=2.3.1 in /Users/spencerbrigham/Programming/Gaza_RS/venv/lib/python3.13/site-packages (from geemap) (2.3.1)\n",
      "Requirement already satisfied: python-box in /Users/spencerbrigham/Programming/Gaza_RS/venv/lib/python3.13/site-packages (from geemap) (7.3.2)\n",
      "Requirement already satisfied: scooby in /Users/spencerbrigham/Programming/Gaza_RS/venv/lib/python3.13/site-packages (from geemap) (0.10.0)\n",
      "Requirement already satisfied: google-cloud-storage in /Users/spencerbrigham/Programming/Gaza_RS/venv/lib/python3.13/site-packages (from earthengine_api) (3.0.0)\n",
      "Requirement already satisfied: google-api-python-client>=1.12.1 in /Users/spencerbrigham/Programming/Gaza_RS/venv/lib/python3.13/site-packages (from earthengine_api) (2.161.0)\n",
      "Requirement already satisfied: google-auth>=1.4.1 in /Users/spencerbrigham/Programming/Gaza_RS/venv/lib/python3.13/site-packages (from earthengine_api) (2.38.0)\n",
      "Requirement already satisfied: google-auth-httplib2>=0.0.3 in /Users/spencerbrigham/Programming/Gaza_RS/venv/lib/python3.13/site-packages (from earthengine_api) (0.2.0)\n",
      "Requirement already satisfied: httplib2<1dev,>=0.9.2 in /Users/spencerbrigham/Programming/Gaza_RS/venv/lib/python3.13/site-packages (from earthengine_api) (0.22.0)\n",
      "Requirement already satisfied: requests in /Users/spencerbrigham/Programming/Gaza_RS/venv/lib/python3.13/site-packages (from earthengine_api) (2.32.3)\n",
      "Requirement already satisfied: branca>=0.6.0 in /Users/spencerbrigham/Programming/Gaza_RS/venv/lib/python3.13/site-packages (from folium>=0.17.0->geemap) (0.8.1)\n",
      "Requirement already satisfied: jinja2>=2.9 in /Users/spencerbrigham/Programming/Gaza_RS/venv/lib/python3.13/site-packages (from folium>=0.17.0->geemap) (3.1.5)\n",
      "Requirement already satisfied: xyzservices in /Users/spencerbrigham/Programming/Gaza_RS/venv/lib/python3.13/site-packages (from folium>=0.17.0->geemap) (2025.1.0)\n",
      "Requirement already satisfied: google-api-core!=2.0.*,!=2.1.*,!=2.2.*,!=2.3.0,<3.0.0.dev0,>=1.31.5 in /Users/spencerbrigham/Programming/Gaza_RS/venv/lib/python3.13/site-packages (from google-api-python-client>=1.12.1->earthengine_api) (2.24.1)\n",
      "Requirement already satisfied: uritemplate<5,>=3.0.1 in /Users/spencerbrigham/Programming/Gaza_RS/venv/lib/python3.13/site-packages (from google-api-python-client>=1.12.1->earthengine_api) (4.1.1)\n",
      "Requirement already satisfied: cachetools<6.0,>=2.0.0 in /Users/spencerbrigham/Programming/Gaza_RS/venv/lib/python3.13/site-packages (from google-auth>=1.4.1->earthengine_api) (5.5.2)\n",
      "Requirement already satisfied: pyasn1-modules>=0.2.1 in /Users/spencerbrigham/Programming/Gaza_RS/venv/lib/python3.13/site-packages (from google-auth>=1.4.1->earthengine_api) (0.4.1)\n",
      "Requirement already satisfied: rsa<5,>=3.1.4 in /Users/spencerbrigham/Programming/Gaza_RS/venv/lib/python3.13/site-packages (from google-auth>=1.4.1->earthengine_api) (4.9)\n",
      "Requirement already satisfied: pyparsing!=3.0.0,!=3.0.1,!=3.0.2,!=3.0.3,<4,>=2.4.2 in /Users/spencerbrigham/Programming/Gaza_RS/venv/lib/python3.13/site-packages (from httplib2<1dev,>=0.9.2->earthengine_api) (3.2.1)\n",
      "Requirement already satisfied: ipywidgets in /Users/spencerbrigham/Programming/Gaza_RS/venv/lib/python3.13/site-packages (from ipyfilechooser>=0.6.0->geemap) (8.1.5)\n",
      "Requirement already satisfied: jupyter-leaflet<0.20,>=0.19 in /Users/spencerbrigham/Programming/Gaza_RS/venv/lib/python3.13/site-packages (from ipyleaflet>=0.19.2->geemap) (0.19.2)\n",
      "Requirement already satisfied: traittypes<3,>=0.2.1 in /Users/spencerbrigham/Programming/Gaza_RS/venv/lib/python3.13/site-packages (from ipyleaflet>=0.19.2->geemap) (0.2.1)\n",
      "Requirement already satisfied: traitlets>=4.3.0 in /Users/spencerbrigham/Programming/Gaza_RS/venv/lib/python3.13/site-packages (from bqplot->geemap) (5.14.3)\n",
      "Requirement already satisfied: python-dateutil>=2.8.2 in /Users/spencerbrigham/Programming/Gaza_RS/venv/lib/python3.13/site-packages (from pandas->geemap) (2.9.0.post0)\n",
      "Requirement already satisfied: pytz>=2020.1 in /Users/spencerbrigham/Programming/Gaza_RS/venv/lib/python3.13/site-packages (from pandas->geemap) (2025.1)\n",
      "Requirement already satisfied: tzdata>=2022.7 in /Users/spencerbrigham/Programming/Gaza_RS/venv/lib/python3.13/site-packages (from pandas->geemap) (2025.1)\n",
      "Requirement already satisfied: click in /Users/spencerbrigham/Programming/Gaza_RS/venv/lib/python3.13/site-packages (from geocoder->geemap) (8.1.8)\n",
      "Requirement already satisfied: future in /Users/spencerbrigham/Programming/Gaza_RS/venv/lib/python3.13/site-packages (from geocoder->geemap) (1.0.0)\n",
      "Requirement already satisfied: ratelim in /Users/spencerbrigham/Programming/Gaza_RS/venv/lib/python3.13/site-packages (from geocoder->geemap) (0.1.6)\n",
      "Requirement already satisfied: six in /Users/spencerbrigham/Programming/Gaza_RS/venv/lib/python3.13/site-packages (from geocoder->geemap) (1.17.0)\n",
      "Requirement already satisfied: google-cloud-core<3.0dev,>=2.3.0 in /Users/spencerbrigham/Programming/Gaza_RS/venv/lib/python3.13/site-packages (from google-cloud-storage->earthengine_api) (2.4.2)\n",
      "Requirement already satisfied: google-resumable-media>=2.7.2 in /Users/spencerbrigham/Programming/Gaza_RS/venv/lib/python3.13/site-packages (from google-cloud-storage->earthengine_api) (2.7.2)\n",
      "Requirement already satisfied: google-crc32c<2.0dev,>=1.0 in /Users/spencerbrigham/Programming/Gaza_RS/venv/lib/python3.13/site-packages (from google-cloud-storage->earthengine_api) (1.6.0)\n",
      "Requirement already satisfied: charset-normalizer<4,>=2 in /Users/spencerbrigham/Programming/Gaza_RS/venv/lib/python3.13/site-packages (from requests->earthengine_api) (3.4.1)\n",
      "Requirement already satisfied: idna<4,>=2.5 in /Users/spencerbrigham/Programming/Gaza_RS/venv/lib/python3.13/site-packages (from requests->earthengine_api) (3.10)\n",
      "Requirement already satisfied: urllib3<3,>=1.21.1 in /Users/spencerbrigham/Programming/Gaza_RS/venv/lib/python3.13/site-packages (from requests->earthengine_api) (2.3.0)\n",
      "Requirement already satisfied: certifi>=2017.4.17 in /Users/spencerbrigham/Programming/Gaza_RS/venv/lib/python3.13/site-packages (from requests->earthengine_api) (2025.1.31)\n",
      "Requirement already satisfied: contourpy>=1.0.1 in /Users/spencerbrigham/Programming/Gaza_RS/venv/lib/python3.13/site-packages (from matplotlib->geemap) (1.3.1)\n",
      "Requirement already satisfied: cycler>=0.10 in /Users/spencerbrigham/Programming/Gaza_RS/venv/lib/python3.13/site-packages (from matplotlib->geemap) (0.12.1)\n",
      "Requirement already satisfied: fonttools>=4.22.0 in /Users/spencerbrigham/Programming/Gaza_RS/venv/lib/python3.13/site-packages (from matplotlib->geemap) (4.56.0)\n",
      "Requirement already satisfied: kiwisolver>=1.3.1 in /Users/spencerbrigham/Programming/Gaza_RS/venv/lib/python3.13/site-packages (from matplotlib->geemap) (1.4.8)\n",
      "Requirement already satisfied: packaging>=20.0 in /Users/spencerbrigham/Programming/Gaza_RS/venv/lib/python3.13/site-packages (from matplotlib->geemap) (24.2)\n",
      "Requirement already satisfied: pillow>=8 in /Users/spencerbrigham/Programming/Gaza_RS/venv/lib/python3.13/site-packages (from matplotlib->geemap) (11.1.0)\n",
      "Requirement already satisfied: narwhals>=1.15.1 in /Users/spencerbrigham/Programming/Gaza_RS/venv/lib/python3.13/site-packages (from plotly->geemap) (1.27.1)\n",
      "Requirement already satisfied: googleapis-common-protos<2.0.dev0,>=1.56.2 in /Users/spencerbrigham/Programming/Gaza_RS/venv/lib/python3.13/site-packages (from google-api-core!=2.0.*,!=2.1.*,!=2.2.*,!=2.3.0,<3.0.0.dev0,>=1.31.5->google-api-python-client>=1.12.1->earthengine_api) (1.68.0)\n",
      "Requirement already satisfied: protobuf!=3.20.0,!=3.20.1,!=4.21.0,!=4.21.1,!=4.21.2,!=4.21.3,!=4.21.4,!=4.21.5,<6.0.0.dev0,>=3.19.5 in /Users/spencerbrigham/Programming/Gaza_RS/venv/lib/python3.13/site-packages (from google-api-core!=2.0.*,!=2.1.*,!=2.2.*,!=2.3.0,<3.0.0.dev0,>=1.31.5->google-api-python-client>=1.12.1->earthengine_api) (5.29.3)\n",
      "Requirement already satisfied: proto-plus<2.0.0dev,>=1.22.3 in /Users/spencerbrigham/Programming/Gaza_RS/venv/lib/python3.13/site-packages (from google-api-core!=2.0.*,!=2.1.*,!=2.2.*,!=2.3.0,<3.0.0.dev0,>=1.31.5->google-api-python-client>=1.12.1->earthengine_api) (1.26.0)\n",
      "Requirement already satisfied: comm>=0.1.3 in /Users/spencerbrigham/Programming/Gaza_RS/venv/lib/python3.13/site-packages (from ipywidgets->ipyfilechooser>=0.6.0->geemap) (0.2.2)\n",
      "Requirement already satisfied: ipython>=6.1.0 in /Users/spencerbrigham/Programming/Gaza_RS/venv/lib/python3.13/site-packages (from ipywidgets->ipyfilechooser>=0.6.0->geemap) (8.32.0)\n",
      "Requirement already satisfied: widgetsnbextension~=4.0.12 in /Users/spencerbrigham/Programming/Gaza_RS/venv/lib/python3.13/site-packages (from ipywidgets->ipyfilechooser>=0.6.0->geemap) (4.0.13)\n",
      "Requirement already satisfied: jupyterlab-widgets~=3.0.12 in /Users/spencerbrigham/Programming/Gaza_RS/venv/lib/python3.13/site-packages (from ipywidgets->ipyfilechooser>=0.6.0->geemap) (3.0.13)\n",
      "Requirement already satisfied: MarkupSafe>=2.0 in /Users/spencerbrigham/Programming/Gaza_RS/venv/lib/python3.13/site-packages (from jinja2>=2.9->folium>=0.17.0->geemap) (3.0.2)\n",
      "Requirement already satisfied: pyasn1<0.7.0,>=0.4.6 in /Users/spencerbrigham/Programming/Gaza_RS/venv/lib/python3.13/site-packages (from pyasn1-modules>=0.2.1->google-auth>=1.4.1->earthengine_api) (0.6.1)\n",
      "Requirement already satisfied: decorator in /Users/spencerbrigham/Programming/Gaza_RS/venv/lib/python3.13/site-packages (from ratelim->geocoder->geemap) (5.2.0)\n",
      "Requirement already satisfied: jedi>=0.16 in /Users/spencerbrigham/Programming/Gaza_RS/venv/lib/python3.13/site-packages (from ipython>=6.1.0->ipywidgets->ipyfilechooser>=0.6.0->geemap) (0.19.2)\n",
      "Requirement already satisfied: matplotlib-inline in /Users/spencerbrigham/Programming/Gaza_RS/venv/lib/python3.13/site-packages (from ipython>=6.1.0->ipywidgets->ipyfilechooser>=0.6.0->geemap) (0.1.7)\n",
      "Requirement already satisfied: pexpect>4.3 in /Users/spencerbrigham/Programming/Gaza_RS/venv/lib/python3.13/site-packages (from ipython>=6.1.0->ipywidgets->ipyfilechooser>=0.6.0->geemap) (4.9.0)\n",
      "Requirement already satisfied: prompt_toolkit<3.1.0,>=3.0.41 in /Users/spencerbrigham/Programming/Gaza_RS/venv/lib/python3.13/site-packages (from ipython>=6.1.0->ipywidgets->ipyfilechooser>=0.6.0->geemap) (3.0.50)\n",
      "Requirement already satisfied: pygments>=2.4.0 in /Users/spencerbrigham/Programming/Gaza_RS/venv/lib/python3.13/site-packages (from ipython>=6.1.0->ipywidgets->ipyfilechooser>=0.6.0->geemap) (2.19.1)\n",
      "Requirement already satisfied: stack_data in /Users/spencerbrigham/Programming/Gaza_RS/venv/lib/python3.13/site-packages (from ipython>=6.1.0->ipywidgets->ipyfilechooser>=0.6.0->geemap) (0.6.3)\n",
      "Requirement already satisfied: parso<0.9.0,>=0.8.4 in /Users/spencerbrigham/Programming/Gaza_RS/venv/lib/python3.13/site-packages (from jedi>=0.16->ipython>=6.1.0->ipywidgets->ipyfilechooser>=0.6.0->geemap) (0.8.4)\n",
      "Requirement already satisfied: ptyprocess>=0.5 in /Users/spencerbrigham/Programming/Gaza_RS/venv/lib/python3.13/site-packages (from pexpect>4.3->ipython>=6.1.0->ipywidgets->ipyfilechooser>=0.6.0->geemap) (0.7.0)\n",
      "Requirement already satisfied: wcwidth in /Users/spencerbrigham/Programming/Gaza_RS/venv/lib/python3.13/site-packages (from prompt_toolkit<3.1.0,>=3.0.41->ipython>=6.1.0->ipywidgets->ipyfilechooser>=0.6.0->geemap) (0.2.13)\n",
      "Requirement already satisfied: executing>=1.2.0 in /Users/spencerbrigham/Programming/Gaza_RS/venv/lib/python3.13/site-packages (from stack_data->ipython>=6.1.0->ipywidgets->ipyfilechooser>=0.6.0->geemap) (2.2.0)\n",
      "Requirement already satisfied: asttokens>=2.1.0 in /Users/spencerbrigham/Programming/Gaza_RS/venv/lib/python3.13/site-packages (from stack_data->ipython>=6.1.0->ipywidgets->ipyfilechooser>=0.6.0->geemap) (3.0.0)\n",
      "Requirement already satisfied: pure-eval in /Users/spencerbrigham/Programming/Gaza_RS/venv/lib/python3.13/site-packages (from stack_data->ipython>=6.1.0->ipywidgets->ipyfilechooser>=0.6.0->geemap) (0.2.3)\n",
      "Note: you may need to restart the kernel to use updated packages.\n"
     ]
    }
   ],
   "source": [
    "pip install geemap earthengine_api"
   ]
  },
  {
   "cell_type": "code",
   "execution_count": 3,
   "id": "15a54779-3a00-4f1e-9929-ed9298fc1a78",
   "metadata": {},
   "outputs": [],
   "source": [
    "import ee"
   ]
  },
  {
   "cell_type": "code",
   "execution_count": 4,
   "id": "562c74e7-b57f-492a-9071-3405d37ca57f",
   "metadata": {},
   "outputs": [
    {
     "data": {
      "text/plain": [
       "True"
      ]
     },
     "execution_count": 4,
     "metadata": {},
     "output_type": "execute_result"
    }
   ],
   "source": [
    "ee.Authenticate()"
   ]
  },
  {
   "cell_type": "code",
   "execution_count": 5,
   "id": "9c5e207a-d187-4478-8dc9-95d5ce0fb546",
   "metadata": {},
   "outputs": [],
   "source": [
    "ee.Initialize()"
   ]
  },
  {
   "cell_type": "code",
   "execution_count": 6,
   "id": "a9a7061e-e039-491a-9ae5-d94986310332",
   "metadata": {},
   "outputs": [
    {
     "data": {
      "application/vnd.jupyter.widget-view+json": {
       "model_id": "50d5f90f5b424facb3e59d940dffb156",
       "version_major": 2,
       "version_minor": 0
      },
      "text/plain": [
       "Map(center=[0, 0], controls=(WidgetControl(options=['position', 'transparent_bg'], widget=SearchDataGUI(childr…"
      ]
     },
     "execution_count": 6,
     "metadata": {},
     "output_type": "execute_result"
    }
   ],
   "source": [
    "import geemap\n",
    "Map = geemap.Map()\n",
    "Map.add_basemap(\"SATELLITE\")\n",
    "Map"
   ]
  }
 ],
 "metadata": {
  "kernelspec": {
   "display_name": "Python 3 (ipykernel)",
   "language": "python",
   "name": "python3"
  },
  "language_info": {
   "codemirror_mode": {
    "name": "ipython",
    "version": 3
   },
   "file_extension": ".py",
   "mimetype": "text/x-python",
   "name": "python",
   "nbconvert_exporter": "python",
   "pygments_lexer": "ipython3",
   "version": "3.13.2"
  }
 },
 "nbformat": 4,
 "nbformat_minor": 5
}
